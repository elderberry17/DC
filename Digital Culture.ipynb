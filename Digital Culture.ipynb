{
 "cells": [
  {
   "cell_type": "markdown",
   "id": "5d3cc22b",
   "metadata": {},
   "source": [
    "# task 4"
   ]
  },
  {
   "cell_type": "markdown",
   "id": "f3da996a",
   "metadata": {},
   "source": [
    "Make sure that you've all demanding libraries in your vienv, babe"
   ]
  },
  {
   "cell_type": "code",
   "execution_count": 1,
   "id": "d813b579",
   "metadata": {},
   "outputs": [],
   "source": [
    "import pandas as pd\n",
    "import numpy as np"
   ]
  },
  {
   "cell_type": "code",
   "execution_count": 22,
   "id": "363b9c58",
   "metadata": {},
   "outputs": [],
   "source": [
    "data = pd.read_csv('/home/alexey/Downloads/task4_2_859501 (1).csv')"
   ]
  },
  {
   "cell_type": "code",
   "execution_count": 23,
   "id": "6f052ceb",
   "metadata": {},
   "outputs": [
    {
     "data": {
      "text/html": [
       "<div>\n",
       "<style scoped>\n",
       "    .dataframe tbody tr th:only-of-type {\n",
       "        vertical-align: middle;\n",
       "    }\n",
       "\n",
       "    .dataframe tbody tr th {\n",
       "        vertical-align: top;\n",
       "    }\n",
       "\n",
       "    .dataframe thead th {\n",
       "        text-align: right;\n",
       "    }\n",
       "</style>\n",
       "<table border=\"1\" class=\"dataframe\">\n",
       "  <thead>\n",
       "    <tr style=\"text-align: right;\">\n",
       "      <th></th>\n",
       "      <th>ID</th>\n",
       "      <th>DISTANCE</th>\n",
       "      <th>STOP_COUNT</th>\n",
       "      <th>COST</th>\n",
       "      <th>FITNESS</th>\n",
       "      <th>INTERNET</th>\n",
       "    </tr>\n",
       "  </thead>\n",
       "  <tbody>\n",
       "    <tr>\n",
       "      <th>0</th>\n",
       "      <td>1</td>\n",
       "      <td>15</td>\n",
       "      <td>7</td>\n",
       "      <td>38000</td>\n",
       "      <td>27</td>\n",
       "      <td>4</td>\n",
       "    </tr>\n",
       "    <tr>\n",
       "      <th>1</th>\n",
       "      <td>2</td>\n",
       "      <td>18</td>\n",
       "      <td>10</td>\n",
       "      <td>54000</td>\n",
       "      <td>9</td>\n",
       "      <td>1</td>\n",
       "    </tr>\n",
       "    <tr>\n",
       "      <th>2</th>\n",
       "      <td>3</td>\n",
       "      <td>24</td>\n",
       "      <td>12</td>\n",
       "      <td>50000</td>\n",
       "      <td>23</td>\n",
       "      <td>2</td>\n",
       "    </tr>\n",
       "    <tr>\n",
       "      <th>3</th>\n",
       "      <td>4</td>\n",
       "      <td>3</td>\n",
       "      <td>9</td>\n",
       "      <td>38000</td>\n",
       "      <td>9</td>\n",
       "      <td>3</td>\n",
       "    </tr>\n",
       "    <tr>\n",
       "      <th>4</th>\n",
       "      <td>5</td>\n",
       "      <td>6</td>\n",
       "      <td>1</td>\n",
       "      <td>43000</td>\n",
       "      <td>22</td>\n",
       "      <td>2</td>\n",
       "    </tr>\n",
       "  </tbody>\n",
       "</table>\n",
       "</div>"
      ],
      "text/plain": [
       "   ID  DISTANCE  STOP_COUNT   COST  FITNESS  INTERNET\n",
       "0   1        15           7  38000       27         4\n",
       "1   2        18          10  54000        9         1\n",
       "2   3        24          12  50000       23         2\n",
       "3   4         3           9  38000        9         3\n",
       "4   5         6           1  43000       22         2"
      ]
     },
     "execution_count": 23,
     "metadata": {},
     "output_type": "execute_result"
    }
   ],
   "source": [
    "data.head()"
   ]
  },
  {
   "cell_type": "code",
   "execution_count": 24,
   "id": "d7b9e34f",
   "metadata": {},
   "outputs": [],
   "source": [
    "features = [\"DISTANCE\", \"STOP_COUNT\", \"COST\", \"FITNESS\", \"INTERNET\"]"
   ]
  },
  {
   "cell_type": "code",
   "execution_count": 25,
   "id": "361de4e5",
   "metadata": {},
   "outputs": [],
   "source": [
    "# lin_norm: (x - x_min) / (x_max - x_min)"
   ]
  },
  {
   "cell_type": "code",
   "execution_count": 26,
   "id": "1eafa111",
   "metadata": {},
   "outputs": [],
   "source": [
    "data = data[data.INTERNET != 0]"
   ]
  },
  {
   "cell_type": "code",
   "execution_count": 27,
   "id": "eb8fde71",
   "metadata": {},
   "outputs": [],
   "source": [
    "# make normalization\n",
    "for feature in features:\n",
    "    data[feature] = (data[feature] - data[feature].min()) / (data[feature].max() - data[feature].min())"
   ]
  },
  {
   "cell_type": "code",
   "execution_count": 32,
   "id": "80f4ad9f",
   "metadata": {},
   "outputs": [],
   "source": [
    "weights = np.array([1, 1, 1, 0.3, -0.2])"
   ]
  },
  {
   "cell_type": "code",
   "execution_count": 33,
   "id": "3f4ed76e",
   "metadata": {},
   "outputs": [],
   "source": [
    "data[\"RATE\"] = data[features].dot(weights)"
   ]
  },
  {
   "cell_type": "code",
   "execution_count": 34,
   "id": "87abe765",
   "metadata": {},
   "outputs": [
    {
     "data": {
      "text/html": [
       "<div>\n",
       "<style scoped>\n",
       "    .dataframe tbody tr th:only-of-type {\n",
       "        vertical-align: middle;\n",
       "    }\n",
       "\n",
       "    .dataframe tbody tr th {\n",
       "        vertical-align: top;\n",
       "    }\n",
       "\n",
       "    .dataframe thead th {\n",
       "        text-align: right;\n",
       "    }\n",
       "</style>\n",
       "<table border=\"1\" class=\"dataframe\">\n",
       "  <thead>\n",
       "    <tr style=\"text-align: right;\">\n",
       "      <th></th>\n",
       "      <th>ID</th>\n",
       "      <th>DISTANCE</th>\n",
       "      <th>STOP_COUNT</th>\n",
       "      <th>COST</th>\n",
       "      <th>FITNESS</th>\n",
       "      <th>INTERNET</th>\n",
       "      <th>RATE</th>\n",
       "    </tr>\n",
       "  </thead>\n",
       "  <tbody>\n",
       "    <tr>\n",
       "      <th>96</th>\n",
       "      <td>97</td>\n",
       "      <td>0.230769</td>\n",
       "      <td>0.090909</td>\n",
       "      <td>0.179487</td>\n",
       "      <td>0.000000</td>\n",
       "      <td>0.666667</td>\n",
       "      <td>0.367832</td>\n",
       "    </tr>\n",
       "    <tr>\n",
       "      <th>86</th>\n",
       "      <td>87</td>\n",
       "      <td>0.000000</td>\n",
       "      <td>0.454545</td>\n",
       "      <td>0.076923</td>\n",
       "      <td>0.076923</td>\n",
       "      <td>0.666667</td>\n",
       "      <td>0.421212</td>\n",
       "    </tr>\n",
       "    <tr>\n",
       "      <th>55</th>\n",
       "      <td>56</td>\n",
       "      <td>0.115385</td>\n",
       "      <td>0.181818</td>\n",
       "      <td>0.025641</td>\n",
       "      <td>1.000000</td>\n",
       "      <td>0.666667</td>\n",
       "      <td>0.489510</td>\n",
       "    </tr>\n",
       "    <tr>\n",
       "      <th>187</th>\n",
       "      <td>188</td>\n",
       "      <td>0.307692</td>\n",
       "      <td>0.000000</td>\n",
       "      <td>0.205128</td>\n",
       "      <td>0.423077</td>\n",
       "      <td>0.666667</td>\n",
       "      <td>0.506410</td>\n",
       "    </tr>\n",
       "    <tr>\n",
       "      <th>13</th>\n",
       "      <td>14</td>\n",
       "      <td>0.230769</td>\n",
       "      <td>0.090909</td>\n",
       "      <td>0.153846</td>\n",
       "      <td>0.846154</td>\n",
       "      <td>1.000000</td>\n",
       "      <td>0.529371</td>\n",
       "    </tr>\n",
       "  </tbody>\n",
       "</table>\n",
       "</div>"
      ],
      "text/plain": [
       "      ID  DISTANCE  STOP_COUNT      COST   FITNESS  INTERNET      RATE\n",
       "96    97  0.230769    0.090909  0.179487  0.000000  0.666667  0.367832\n",
       "86    87  0.000000    0.454545  0.076923  0.076923  0.666667  0.421212\n",
       "55    56  0.115385    0.181818  0.025641  1.000000  0.666667  0.489510\n",
       "187  188  0.307692    0.000000  0.205128  0.423077  0.666667  0.506410\n",
       "13    14  0.230769    0.090909  0.153846  0.846154  1.000000  0.529371"
      ]
     },
     "execution_count": 34,
     "metadata": {},
     "output_type": "execute_result"
    }
   ],
   "source": [
    "data.sort_values(by=\"RATE\", ascending=True).head()"
   ]
  },
  {
   "cell_type": "markdown",
   "id": "8d4224dd",
   "metadata": {},
   "source": [
    "# task 5"
   ]
  },
  {
   "cell_type": "code",
   "execution_count": 35,
   "id": "80b64926",
   "metadata": {},
   "outputs": [],
   "source": [
    "data = data = pd.read_csv('/home/alexey/Downloads/task5_963811.csv')"
   ]
  },
  {
   "cell_type": "code",
   "execution_count": 38,
   "id": "0ff8435b",
   "metadata": {},
   "outputs": [],
   "source": [
    "alpha = 0.21"
   ]
  },
  {
   "cell_type": "markdown",
   "id": "eb4b7735",
   "metadata": {},
   "source": [
    "***part 1***"
   ]
  },
  {
   "cell_type": "markdown",
   "id": "0922d6ea",
   "metadata": {},
   "source": [
    "$t > 1: s_t = s_{t-1} + a*(c_t-s_{t-1})$"
   ]
  },
  {
   "cell_type": "code",
   "execution_count": 52,
   "id": "fc39c04e",
   "metadata": {},
   "outputs": [],
   "source": [
    "def exponential_smoothing(series, alpha):\n",
    "    result = [series.iloc[0].item()]\n",
    "    for n in range(1, len(series)):\n",
    "        result.append(alpha * series.iloc[n].item() + (1 - alpha) * result[n-1])\n",
    "    return np.array(result)"
   ]
  },
  {
   "cell_type": "code",
   "execution_count": 54,
   "id": "4cf91f2d",
   "metadata": {},
   "outputs": [],
   "source": [
    "smoothed = exponential_smoothing(data, alpha)"
   ]
  },
  {
   "cell_type": "code",
   "execution_count": 60,
   "id": "6d425e01",
   "metadata": {},
   "outputs": [],
   "source": [
    "import matplotlib.pyplot as plt\n",
    "plt.rcParams[\"figure.figsize\"] = (14, 7)"
   ]
  },
  {
   "cell_type": "code",
   "execution_count": 63,
   "id": "6c4065e4",
   "metadata": {
    "scrolled": true
   },
   "outputs": [
    {
     "data": {
      "image/png": "[encoded data removed]",
      "text/plain": [
       "<Figure size 1008x504 with 1 Axes>"
      ]
     },
     "metadata": {
      "needs_background": "light"
     },
     "output_type": "display_data"
    }
   ],
   "source": [
    "plt.plot(data)\n",
    "plt.plot(smoothed, color=\"red\")\n",
    "None"
   ]
  },
  {
   "cell_type": "markdown",
   "id": "0cbd7c36",
   "metadata": {},
   "source": [
    "***part 2***"
   ]
  },
  {
   "cell_type": "code",
   "execution_count": 79,
   "id": "fb428fc7",
   "metadata": {},
   "outputs": [
    {
     "data": {
      "text/plain": [
       "131.25"
      ]
     },
     "execution_count": 79,
     "metadata": {},
     "output_type": "execute_result"
    }
   ],
   "source": [
    "round(smoothed[99], 2)"
   ]
  },
  {
   "cell_type": "code",
   "execution_count": 67,
   "id": "32a034fb",
   "metadata": {},
   "outputs": [
    {
     "data": {
      "text/plain": [
       "(100,)"
      ]
     },
     "execution_count": 67,
     "metadata": {},
     "output_type": "execute_result"
    }
   ],
   "source": [
    "smoothed"
   ]
  },
  {
   "cell_type": "code",
   "execution_count": 81,
   "id": "d9452625",
   "metadata": {},
   "outputs": [],
   "source": [
    "from sklearn.linear_model import LinearRegression"
   ]
  },
  {
   "cell_type": "code",
   "execution_count": 87,
   "id": "05a8991c",
   "metadata": {},
   "outputs": [],
   "source": [
    "regression = LinearRegression()"
   ]
  },
  {
   "cell_type": "code",
   "execution_count": 84,
   "id": "0973f145",
   "metadata": {},
   "outputs": [],
   "source": [
    "X = np.arange(0, 100)"
   ]
  },
  {
   "cell_type": "code",
   "execution_count": 93,
   "id": "2ec01c87",
   "metadata": {},
   "outputs": [
    {
     "data": {
      "text/plain": [
       "(100,)"
      ]
     },
     "execution_count": 93,
     "metadata": {},
     "output_type": "execute_result"
    }
   ],
   "source": [
    "data[\"y\"].shape"
   ]
  },
  {
   "cell_type": "code",
   "execution_count": 94,
   "id": "141c18b2",
   "metadata": {},
   "outputs": [
    {
     "data": {
      "text/plain": [
       "LinearRegression()"
      ]
     },
     "execution_count": 94,
     "metadata": {},
     "output_type": "execute_result"
    }
   ],
   "source": [
    "regression.fit(X.reshape(-1, 1), data[\"y\"].T)"
   ]
  },
  {
   "cell_type": "code",
   "execution_count": 96,
   "id": "230c1a29",
   "metadata": {},
   "outputs": [],
   "source": [
    "predicts = regression.predict(X.reshape(-1, 1))"
   ]
  },
  {
   "cell_type": "code",
   "execution_count": 100,
   "id": "629983f2",
   "metadata": {},
   "outputs": [
    {
     "data": {
      "image/png": "[encoded data removed]",
      "text/plain": [
       "<Figure size 1008x504 with 1 Axes>"
      ]
     },
     "metadata": {
      "needs_background": "light"
     },
     "output_type": "display_data"
    }
   ],
   "source": [
    "plt.plot(predicts)\n",
    "plt.scatter(X.reshape(-1, 1), data[\"y\"])\n",
    "None"
   ]
  },
  {
   "cell_type": "markdown",
   "id": "9459241e",
   "metadata": {},
   "source": [
    "***part 3***"
   ]
  },
  {
   "cell_type": "code",
   "execution_count": 103,
   "id": "f194cb98",
   "metadata": {},
   "outputs": [
    {
     "data": {
      "text/plain": [
       "1.16"
      ]
     },
     "execution_count": 103,
     "metadata": {},
     "output_type": "execute_result"
    }
   ],
   "source": [
    "round(regression.coef_[0], 2)"
   ]
  },
  {
   "cell_type": "code",
   "execution_count": 104,
   "id": "507ccd45",
   "metadata": {},
   "outputs": [],
   "source": [
    "from sklearn.metrics import r2_score"
   ]
  },
  {
   "cell_type": "markdown",
   "id": "7d6d2645",
   "metadata": {},
   "source": [
    "***part 4***"
   ]
  },
  {
   "cell_type": "code",
   "execution_count": 105,
   "id": "270eb19a",
   "metadata": {},
   "outputs": [
    {
     "data": {
      "text/plain": [
       "0.92"
      ]
     },
     "execution_count": 105,
     "metadata": {},
     "output_type": "execute_result"
    }
   ],
   "source": [
    "round(r2_score(data[\"y\"], predicts), 2)"
   ]
  },
  {
   "cell_type": "markdown",
   "id": "517a99e9",
   "metadata": {},
   "source": [
    "***part 5***"
   ]
  },
  {
   "cell_type": "code",
   "execution_count": 109,
   "id": "8f54c787",
   "metadata": {},
   "outputs": [
    {
     "data": {
      "text/plain": [
       "135.68"
      ]
     },
     "execution_count": 109,
     "metadata": {},
     "output_type": "execute_result"
    }
   ],
   "source": [
    "round(regression.predict(np.array([101]).reshape(-1, 1))[0], 2)"
   ]
  },
  {
   "cell_type": "code",
   "execution_count": null,
   "id": "7fa8bb68",
   "metadata": {},
   "outputs": [],
   "source": []
  }
 ],
 "metadata": {
  "kernelspec": {
   "display_name": "Python 3 (ipykernel)",
   "language": "python",
   "name": "python3"
  },
  "language_info": {
   "codemirror_mode": {
    "name": "ipython",
    "version": 3
   },
   "file_extension": ".py",
   "mimetype": "text/x-python",
   "name": "python",
   "nbconvert_exporter": "python",
   "pygments_lexer": "ipython3",
   "version": "3.8.10"
  }
 },
 "nbformat": 4,
 "nbformat_minor": 5
}
